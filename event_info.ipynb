{
 "cells": [
  {
   "cell_type": "code",
   "execution_count": null,
   "id": "1d2aa3d6-49d9-4a55-a91f-c05506233d4e",
   "metadata": {},
   "outputs": [],
   "source": [
    "import requests\n",
    "import json\n",
    "from config import api_key"
   ]
  },
  {
   "cell_type": "code",
   "execution_count": null,
   "id": "4af83e12-4222-4775-b8f0-b46cfeb552de",
   "metadata": {},
   "outputs": [],
   "source": [
    "pages = 10\n",
    "keyword = 'music'\n",
    "units = 'miles'\n",
    "data = requests.get(f\"https://app.ticketmaster.com/discovery/v2/events.json?size={pages}&keyword={keyword}&unit={units}&apikey={api_key}\").json()\n",
    "events = []\n",
    "for var in data['_embedded'][\"events\"]:\n",
    "    data_id = var['id']\n",
    "    event_dict = requests.get(f'https://app.ticketmaster.com/discovery/v2/events/{data_id}.json?apikey={api_key}').json()\n",
    "    events.append(event_dict)\n",
    "for x in events:\n",
    "    print(json.dumps(x, indent=4))"
   ]
  }
 ],
 "metadata": {
  "kernelspec": {
   "display_name": "Python 3 (ipykernel)",
   "language": "python",
   "name": "python3"
  },
  "language_info": {
   "codemirror_mode": {
    "name": "ipython",
    "version": 3
   },
   "file_extension": ".py",
   "mimetype": "text/x-python",
   "name": "python",
   "nbconvert_exporter": "python",
   "pygments_lexer": "ipython3",
   "version": "3.11.5"
  }
 },
 "nbformat": 4,
 "nbformat_minor": 5
}
