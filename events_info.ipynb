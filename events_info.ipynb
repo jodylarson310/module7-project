{
 "cells": [
  {
   "cell_type": "code",
   "execution_count": null,
   "id": "700b0c35-7a49-46ff-8e26-5e599783f4fd",
   "metadata": {},
   "outputs": [],
   "source": []
  },
  {
   "cell_type": "code",
   "execution_count": null,
   "id": "1d2aa3d6-49d9-4a55-a91f-c05506233d4e",
   "metadata": {},
   "outputs": [],
   "source": [
    "import matplotlib.pyplot as plt\n",
    "import pandas as pd\n",
    "import numpy as np\n",
    "import requests\n",
    "import json\n",
    "import time\n",
    "from config import api_key\n",
    "from scipy.stats import linregress\n",
    "from pprint import pprint"
   ]
  },
  {
   "cell_type": "code",
   "execution_count": null,
   "id": "4af83e12-4222-4775-b8f0-b46cfeb552de",
   "metadata": {},
   "outputs": [],
   "source": [
    "artist = 'ENTER NAME'\n",
    "\n",
    "events = requests.get(f'https://app.ticketmaster.com/discovery/v2/events.json?keyword={artist}&apikey={api_key}').json()\n",
    "\n",
    "pprint(events)"
   ]
  },
  {
   "cell_type": "code",
   "execution_count": null,
   "id": "1b3a291c-adaf-4182-b54c-7d575a8a140d",
   "metadata": {},
   "outputs": [],
   "source": []
  }
 ],
 "metadata": {
  "kernelspec": {
   "display_name": "Python 3 (ipykernel)",
   "language": "python",
   "name": "python3"
  },
  "language_info": {
   "codemirror_mode": {
    "name": "ipython",
    "version": 3
   },
   "file_extension": ".py",
   "mimetype": "text/x-python",
   "name": "python",
   "nbconvert_exporter": "python",
   "pygments_lexer": "ipython3",
   "version": "3.11.5"
  }
 },
 "nbformat": 4,
 "nbformat_minor": 5
}
