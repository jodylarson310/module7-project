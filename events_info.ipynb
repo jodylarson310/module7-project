{
 "cells": [
  {
   "cell_type": "code",
   "execution_count": 1,
   "id": "1d2aa3d6-49d9-4a55-a91f-c05506233d4e",
   "metadata": {},
   "outputs": [],
   "source": [
    "import matplotlib.pyplot as plt\n",
    "import pandas as pd\n",
    "import numpy as np\n",
    "import requests\n",
    "import json\n",
    "import time\n",
    "from config import api_key\n",
    "from scipy.stats import linregress\n",
    "from pprint import pprint"
   ]
  },
  {
   "cell_type": "code",
   "execution_count": 2,
   "id": "4af83e12-4222-4775-b8f0-b46cfeb552de",
   "metadata": {},
   "outputs": [],
   "source": [
    "artist = 'FooFighters'\n",
    "locale = 'en-us'\n",
    "segment = 'Music'\n",
    "\n",
    "events = requests.get(f'https://app.ticketmaster.com/discovery/v2/events.json?keyword={artist}&segment={segment}&locale={locale}&apikey={api_key}').json()\n"
   ]
  },
  {
   "cell_type": "code",
   "execution_count": 3,
   "id": "d4d132f7-0f87-4404-8c49-d2a5b2573643",
   "metadata": {
    "tags": []
   },
   "outputs": [
    {
     "data": {
      "text/plain": [
       "805072"
      ]
     },
     "execution_count": 3,
     "metadata": {},
     "output_type": "execute_result"
    }
   ],
   "source": [
    "open('test_output.json', 'w').write(json.dumps(events, indent=4))"
   ]
  },
  {
   "cell_type": "code",
   "execution_count": 4,
   "id": "b7ebfc45-88f4-4bb5-b2e0-5851e90b10c3",
   "metadata": {
    "tags": []
   },
   "outputs": [
    {
     "ename": "KeyError",
     "evalue": "'priceRanges'",
     "output_type": "error",
     "traceback": [
      "\u001b[1;31m---------------------------------------------------------------------------\u001b[0m",
      "\u001b[1;31mKeyError\u001b[0m                                  Traceback (most recent call last)",
      "Cell \u001b[1;32mIn[4], line 8\u001b[0m\n\u001b[0;32m      6\u001b[0m event_city \u001b[38;5;241m=\u001b[39m x[\u001b[38;5;124m'\u001b[39m\u001b[38;5;124m_embedded\u001b[39m\u001b[38;5;124m'\u001b[39m][\u001b[38;5;124m'\u001b[39m\u001b[38;5;124mvenues\u001b[39m\u001b[38;5;124m'\u001b[39m][\u001b[38;5;241m0\u001b[39m][\u001b[38;5;124m'\u001b[39m\u001b[38;5;124mcity\u001b[39m\u001b[38;5;124m'\u001b[39m][\u001b[38;5;124m'\u001b[39m\u001b[38;5;124mname\u001b[39m\u001b[38;5;124m'\u001b[39m]\n\u001b[0;32m      7\u001b[0m event_state \u001b[38;5;241m=\u001b[39m x[\u001b[38;5;124m'\u001b[39m\u001b[38;5;124m_embedded\u001b[39m\u001b[38;5;124m'\u001b[39m][\u001b[38;5;124m'\u001b[39m\u001b[38;5;124mvenues\u001b[39m\u001b[38;5;124m'\u001b[39m][\u001b[38;5;241m0\u001b[39m][\u001b[38;5;124m'\u001b[39m\u001b[38;5;124mstate\u001b[39m\u001b[38;5;124m'\u001b[39m][\u001b[38;5;124m'\u001b[39m\u001b[38;5;124mstateCode\u001b[39m\u001b[38;5;124m'\u001b[39m]\n\u001b[1;32m----> 8\u001b[0m min_price \u001b[38;5;241m=\u001b[39m x[\u001b[38;5;124m'\u001b[39m\u001b[38;5;124mpriceRanges\u001b[39m\u001b[38;5;124m'\u001b[39m][\u001b[38;5;241m0\u001b[39m][\u001b[38;5;124m'\u001b[39m\u001b[38;5;124mmin\u001b[39m\u001b[38;5;124m'\u001b[39m]\n\u001b[0;32m      9\u001b[0m max_price \u001b[38;5;241m=\u001b[39m x[\u001b[38;5;124m'\u001b[39m\u001b[38;5;124mpriceRanges\u001b[39m\u001b[38;5;124m'\u001b[39m][\u001b[38;5;241m0\u001b[39m][\u001b[38;5;124m'\u001b[39m\u001b[38;5;124mmax\u001b[39m\u001b[38;5;124m'\u001b[39m]\n\u001b[0;32m     10\u001b[0m lat \u001b[38;5;241m=\u001b[39m x[\u001b[38;5;124m'\u001b[39m\u001b[38;5;124m_embedded\u001b[39m\u001b[38;5;124m'\u001b[39m][\u001b[38;5;124m'\u001b[39m\u001b[38;5;124mvenues\u001b[39m\u001b[38;5;124m'\u001b[39m][\u001b[38;5;241m0\u001b[39m][\u001b[38;5;124m'\u001b[39m\u001b[38;5;124mlocation\u001b[39m\u001b[38;5;124m'\u001b[39m][\u001b[38;5;124m'\u001b[39m\u001b[38;5;124mlatitude\u001b[39m\u001b[38;5;124m'\u001b[39m]\n",
      "\u001b[1;31mKeyError\u001b[0m: 'priceRanges'"
     ]
    }
   ],
   "source": [
    "for x in events['_embedded']['events']:\n",
    "   # print(x.keys())\n",
    "   # print(x['_embedded']['venues'][0]['city']['name'])\n",
    "    artist_name = x['name']\n",
    "    event_date = x['dates']['start']['localDate']\n",
    "    event_city = x['_embedded']['venues'][0]['city']['name']\n",
    "    event_state = x['_embedded']['venues'][0]['state']['stateCode']\n",
    "    min_price = x['priceRanges'][0]['min']\n",
    "    max_price = x['priceRanges'][0]['max']\n",
    "    lat = x['_embedded']['venues'][0]['location']['latitude']\n",
    "    long =x['_embedded']['venues'][0]['location']['longitude']\n",
    "    \n"
   ]
  },
  {
   "cell_type": "code",
   "execution_count": null,
   "id": "1b3a291c-adaf-4182-b54c-7d575a8a140d",
   "metadata": {},
   "outputs": [],
   "source": [
    "# Parse out event data\n",
    "#event = events['_embedded']['events']\n",
    "\n",
    "artist_name = event['name']\n",
    "event_date = event['dates']['start']['localDate']\n",
    "event_city = event['_embedded']['venues'][0]['city']['name']\n",
    "event_state = event['_embedded']['venues'][0]['state']['stateCode']\n",
    "min_price = event['priceRanges'][0]['min']\n",
    "max_price = event['priceRanges'][0]['max']\n",
    "lat = event['_embedded']['venues'][0]['location']['latitude']\n",
    "long = event['_embedded']['venues'][0]['location']['longitude']\n",
    "\n",
    "ff_events_df = pd.DataFrame({'Artist': [artist_name], 'Date': [event_date], 'City': [event_city], 'State': [event_state], 'Min Price': [min_price], 'Max Price': [max_price], 'Lat': [lat], 'Lon': [long]})\n",
    "\n",
    "print(ff_events_df)"
   ]
  },
  {
   "cell_type": "code",
   "execution_count": null,
   "id": "700b0c35-7a49-46ff-8e26-5e599783f4fd",
   "metadata": {},
   "outputs": [],
   "source": []
  },
  {
   "cell_type": "code",
   "execution_count": null,
   "id": "a60677cc-e793-495a-af30-30db1c158f70",
   "metadata": {},
   "outputs": [],
   "source": []
  }
 ],
 "metadata": {
  "kernelspec": {
   "display_name": "Python 3 (ipykernel)",
   "language": "python",
   "name": "python3"
  },
  "language_info": {
   "codemirror_mode": {
    "name": "ipython",
    "version": 3
   },
   "file_extension": ".py",
   "mimetype": "text/x-python",
   "name": "python",
   "nbconvert_exporter": "python",
   "pygments_lexer": "ipython3",
   "version": "3.11.5"
  }
 },
 "nbformat": 4,
 "nbformat_minor": 5
}
